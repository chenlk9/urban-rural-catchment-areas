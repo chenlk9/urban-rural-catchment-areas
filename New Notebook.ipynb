{
 "cells": [
  {
   "cell_type": "markdown",
   "metadata": {},
   "source": [
    "Platfrom: ArcGIS 10.8\n",
    "Enviroment: Python 2.7"
   ]
  },
  {
   "cell_type": "code",
   "execution_count": 2,
   "metadata": {},
   "outputs": [],
   "source": [
    "import arcpy\n",
    "from arcpy import env\n",
    "from arcpy.sa import *\n",
    "import os\n",
    "import math\n",
    "import shutil\n",
    "import gc"
   ]
  },
  {
   "cell_type": "code",
   "execution_count": 12,
   "metadata": {},
   "outputs": [],
   "source": [
    "root = r'E:\\_2023年\\[研究论文]\\[中国城乡流域]\\[data2]'"
   ]
  },
  {
   "cell_type": "code",
   "execution_count": 13,
   "metadata": {},
   "outputs": [],
   "source": [
    "data_path = os.path.join(root, 'Step1_data')"
   ]
  },
  {
   "cell_type": "code",
   "execution_count": 14,
   "metadata": {},
   "outputs": [],
   "source": [
    "arcpy.CheckOutExtension(\"spatial\")\n",
    "arcpy.gp.overwriteOutput = 1\n",
    "arcpy.env.overwriteOutput = 1\n",
    "env.workspace = data_path"
   ]
  },
  {
   "cell_type": "code",
   "execution_count": 15,
   "metadata": {},
   "outputs": [],
   "source": [
    "# WorldPop2018_China = Raster(data_path + r'\\Population.tif')\n",
    "WorldPop2018_China = Raster(data_path + r'\\pop2018Int.tif')"
   ]
  },
  {
   "cell_type": "code",
   "execution_count": 16,
   "metadata": {},
   "outputs": [],
   "source": [
    "arcpy.env.cellSize = WorldPop2018_China\n",
    "arcpy.env.snapRaster = WorldPop2018_China\n",
    "arcpy.env.extent = WorldPop2018_China\n",
    "sr = arcpy.Describe(WorldPop2018_China).spatialReference\n",
    "arcpy.env.outputCoordinateSystem = sr"
   ]
  },
  {
   "cell_type": "code",
   "execution_count": 17,
   "metadata": {},
   "outputs": [],
   "source": [
    "Landuse_1km_China = Raster(data_path + r'\\LUCC_1km.tif')\n",
    "DEM_1km_China = Raster(data_path + r'\\DEM.tif')\n",
    "Slope_1km_China = Raster(data_path + r\"\\Slope.tif\")"
   ]
  },
  {
   "cell_type": "code",
   "execution_count": 18,
   "metadata": {},
   "outputs": [],
   "source": [
    "GUB2018_China = data_path + r'\\GUB_china_2018_1125.shp'"
   ]
  },
  {
   "cell_type": "code",
   "execution_count": 19,
   "metadata": {},
   "outputs": [],
   "source": [
    "# Step2: ZonalStatistics\n",
    "Step2_Path = root + r'\\Step2_ZoneStat'"
   ]
  },
  {
   "cell_type": "code",
   "execution_count": 20,
   "metadata": {},
   "outputs": [],
   "source": [
    "if not os.path.exists(Step2_Path):\n",
    "    os.mkdir(Step2_Path)\n",
    "else:\n",
    "    shutil.rmtree(Step2_Path)\n",
    "    os.mkdir(Step2_Path)"
   ]
  },
  {
   "cell_type": "code",
   "execution_count": 21,
   "metadata": {},
   "outputs": [],
   "source": [
    "outZonalStatistics = Int(ZonalStatistics(GUB2018_China, \"FID\", WorldPop2018_China, \"SUM\", \"DATA\"))\n",
    "outZonalStatistics.save(Step2_Path + r'\\GUB_POP_1km_China.tif')"
   ]
  },
  {
   "cell_type": "code",
   "execution_count": 22,
   "metadata": {},
   "outputs": [],
   "source": [
    "# step3: class1(-8)\n",
    "Step3_Path = root + r'\\Step3_class1(-6)'"
   ]
  },
  {
   "cell_type": "code",
   "execution_count": 23,
   "metadata": {},
   "outputs": [],
   "source": [
    "if not os.path.exists(Step3_Path):\n",
    "    os.mkdir(Step3_Path)\n",
    "else:\n",
    "    shutil.rmtree(Step3_Path)\n",
    "    os.mkdir(Step3_Path)"
   ]
  },
  {
   "cell_type": "code",
   "execution_count": 24,
   "metadata": {},
   "outputs": [],
   "source": [
    "class1 = Con((outZonalStatistics >= 10000000), 1)\n",
    "class1.save(Step3_Path + r'\\class1.tif')\n",
    "class2 = Con((outZonalStatistics >= 5000000) & (outZonalStatistics < 10000000), 2)\n",
    "class2.save(Step3_Path + r'\\class2.tif')\n",
    "class3 = Con((outZonalStatistics >= 1000000) & (outZonalStatistics < 5000000), 3)\n",
    "class3.save(Step3_Path + r'\\class3.tif')\n",
    "class4 = Con((outZonalStatistics >= 500000) & (outZonalStatistics < 1000000), 4)\n",
    "class4.save(Step3_Path + r'\\class4.tif')\n",
    "class5 = Con((outZonalStatistics >= 50000) & (outZonalStatistics < 500000), 5)\n",
    "class5.save(Step3_Path + r'\\class5.tif')\n",
    "class6 = Con((outZonalStatistics >= 20000) & (outZonalStatistics < 50000), 6)\n",
    "class6.save(Step3_Path + r'\\class6.tif')"
   ]
  },
  {
   "cell_type": "code",
   "execution_count": 25,
   "metadata": {},
   "outputs": [],
   "source": [
    "# step4: OSM Buffer\n",
    "Step4_Path = root + r'\\Step4_OSM_Buffer'"
   ]
  },
  {
   "cell_type": "code",
   "execution_count": 26,
   "metadata": {},
   "outputs": [],
   "source": [
    "if not os.path.exists(Step4_Path):\n",
    "    os.mkdir(Step4_Path)\n",
    "else:\n",
    "    shutil.rmtree(Step4_Path)\n",
    "    os.mkdir(Step4_Path)"
   ]
  },
  {
   "cell_type": "code",
   "execution_count": 27,
   "metadata": {},
   "outputs": [],
   "source": [
    "roads_primary = data_path + r'\\roads_primary.shp'\n",
    "roads_secondary = data_path + r'\\roads_secondary.shp'\n",
    "roads_tertiary = data_path + r'\\roads_tertiary.shp'\n",
    "roads_motorway = data_path + r'\\roads_motorway.shp'\n",
    "roads_trunk = data_path + r'\\roads_trunk.shp'\n",
    "\n",
    "railways_rail = data_path + r'\\railways_rail.shp'\n",
    "high_speed_rail = data_path + r'\\HighSpeedRail.shp'\n",
    "high_speed_rail_point = data_path + r'\\HighSpeedRail_P.shp'\n",
    "\n",
    "ocean = data_path + r'\\Ocean.shp'"
   ]
  },
  {
   "cell_type": "code",
   "execution_count": 28,
   "metadata": {},
   "outputs": [
    {
     "data": {
      "text/html": [
       "<h2>Output</h2>E:\\_2023年\\[研究论文]\\[中国城乡流域]\\[data2]\\Step4_OSM_Buffer\\rail_buffer15.shp<h2>Messages</h2>Start Time: 2023年7月20日 15:07:19<br/>Adding cost to rail_buffer15...<br/>Succeeded at 2023年7月20日 15:07:19 (Elapsed Time: 0.05 seconds)<br/><style>.rendered_html td, .rendered_html th {text-align: left;}.rendered_html tbody {border: 1px solid black;}</style>"
      ],
      "text/plain": [
       "<Result 'E:\\\\_2023年\\\\[研究论文]\\\\[中国城乡流域]\\\\[data2]\\\\Step4_OSM_Buffer\\\\rail_buffer15.shp'>"
      ]
     },
     "execution_count": 28,
     "metadata": {},
     "output_type": "execute_result"
    }
   ],
   "source": [
    "arcpy.Buffer_analysis(high_speed_rail_point, Step4_Path + r'\\rail_point_buffer25.shp', '0.02 DecimalDegrees', \"FULL\", \"ROUND\", \"LIST\")\n",
    "rail_point_buffer = os.path.join(Step4_Path, 'rail_point_buffer25.shp')\n",
    "arcpy.AddField_management(rail_point_buffer, 'cost', 'FLOAT')\n",
    "\n",
    "arcpy.Buffer_analysis(high_speed_rail, Step4_Path + r'\\rail_buffer15.shp', '0.015 DecimalDegrees', \"FULL\", \"FLAT\", \"LIST\")\n",
    "rail_buffer = os.path.join(Step4_Path, 'rail_buffer15.shp')\n",
    "arcpy.AddField_management(rail_buffer, 'cost', 'FLOAT')"
   ]
  },
  {
   "cell_type": "code",
   "execution_count": 29,
   "metadata": {},
   "outputs": [],
   "source": [
    "# Step5: Cost\n",
    "Step5_Path = root + r'\\Step5_Cost'"
   ]
  },
  {
   "cell_type": "code",
   "execution_count": 30,
   "metadata": {},
   "outputs": [],
   "source": [
    "if not os.path.exists(Step5_Path):\n",
    "    os.mkdir(Step5_Path)\n",
    "else:\n",
    "    shutil.rmtree(Step5_Path)\n",
    "    os.mkdir(Step5_Path)"
   ]
  },
  {
   "cell_type": "code",
   "execution_count": 31,
   "metadata": {},
   "outputs": [
    {
     "data": {
      "text/html": [
       "<h2>Output</h2>E:\\_2023年\\[研究论文]\\[中国城乡流域]\\[data2]\\Step5_Cost\\Ocean_cost.tif<h2>Messages</h2>Start Time: 2023年7月20日 15:09:50<br/>Succeeded at 2023年7月20日 15:09:50 (Elapsed Time: 0.30 seconds)<br/><style>.rendered_html td, .rendered_html th {text-align: left;}.rendered_html tbody {border: 1px solid black;}</style>"
      ],
      "text/plain": [
       "<Result 'E:\\\\_2023年\\\\[研究论文]\\\\[中国城乡流域]\\\\[data2]\\\\Step5_Cost\\\\Ocean_cost.tif'>"
      ]
     },
     "execution_count": 31,
     "metadata": {},
     "output_type": "execute_result"
    }
   ],
   "source": [
    "# roads_primary(80km/h)\n",
    "arcpy.CalculateField_management(roads_primary, 'cost', 80, \"PYTHON_9.3\")\n",
    "arcpy.PolylineToRaster_conversion(roads_primary, \"cost\", Step5_Path + r\"\\roads_primary_cost.tif\", \"MAXIMUM_LENGTH\",\n",
    "                                  \"NONE\", WorldPop2018_China)\n",
    "# roads_secondary(60km/h)\n",
    "arcpy.CalculateField_management(roads_secondary, 'cost', 60, \"PYTHON_9.3\")\n",
    "arcpy.PolylineToRaster_conversion(roads_secondary, \"cost\", Step5_Path + r\"\\roads_secondary_cost.tif\", \"MAXIMUM_LENGTH\",\n",
    "                                  \"NONE\", WorldPop2018_China)\n",
    "# roads_tertiary(40km/h)\n",
    "arcpy.CalculateField_management(roads_tertiary, 'cost', 40, \"PYTHON_9.3\")\n",
    "arcpy.PolylineToRaster_conversion(roads_tertiary, \"cost\", Step5_Path + r\"\\roads_tertiary_cost.tif\", \"MAXIMUM_LENGTH\",\n",
    "                                  \"NONE\", WorldPop2018_China)\n",
    "# roads_trunk(90km/h)\n",
    "arcpy.CalculateField_management(roads_trunk, 'cost', 90, \"PYTHON_9.3\")\n",
    "arcpy.PolylineToRaster_conversion(roads_trunk, \"cost\", Step5_Path + r\"\\roads_trunk_cost.tif\", \"MAXIMUM_LENGTH\", \"NONE\", WorldPop2018_China)\n",
    "# roads_motorway(120km/h)\n",
    "arcpy.CalculateField_management(roads_motorway, 'cost', 120, \"PYTHON_9.3\")\n",
    "arcpy.PolylineToRaster_conversion(roads_motorway, \"cost\", Step5_Path + r\"\\roads_motorway_cost.tif\", \"MAXIMUM_LENGTH\",\n",
    "                                  \"NONE\", WorldPop2018_China)\n",
    "# railways_rail(200km/h)\n",
    "arcpy.CalculateField_management(high_speed_rail, 'cost', 200, \"PYTHON_9.3\")\n",
    "arcpy.PolylineToRaster_conversion(railways_rail, \"cost\", Step5_Path + r\"\\railways_rail_cost.tif\",\n",
    "                                  \"MAXIMUM_LENGTH\",\n",
    "                                  \"NONE\", WorldPop2018_China)\n",
    "# HighSpeedRail(250km/h)\n",
    "arcpy.CalculateField_management(high_speed_rail, 'cost', 250, \"PYTHON_9.3\")\n",
    "arcpy.PolylineToRaster_conversion(high_speed_rail, \"cost\", Step5_Path + r\"\\high_speed_rail_cost.tif\",\n",
    "                                  \"MAXIMUM_LENGTH\",\n",
    "                                  \"NONE\", WorldPop2018_China)\n",
    "\n",
    "# HighSpeedRail_Buffer\n",
    "arcpy.CalculateField_management(rail_buffer, 'cost', 1, \"PYTHON_9.3\")  # 高铁buffer 1km/h\n",
    "arcpy.PolygonToRaster_conversion(rail_buffer, \"cost\", Step5_Path + r\"\\hsr_bf_cost15.tif\", \"CELL_CENTER\", \"NONE\", WorldPop2018_China)\n",
    "\n",
    "arcpy.CalculateField_management(rail_point_buffer, 'cost', 5, \"PYTHON_9.3\")\n",
    "arcpy.PolygonToRaster_conversion(rail_point_buffer, \"cost\", Step5_Path + r\"\\hsr_p_bf_cost25.tif\", \"CELL_CENTER\", \"NONE\", WorldPop2018_China)  # 看看cellsize合理性\n",
    "\n",
    "# 轮渡\n",
    "arcpy.CalculateField_management(ocean, 'cost', 19, \"PYTHON_9.3\")\n",
    "arcpy.PolygonToRaster_conversion(ocean, \"cost\", Step5_Path + r\"\\Ocean_cost.tif\", \"CELL_CENTER\", \"NONE\", WorldPop2018_China)"
   ]
  },
  {
   "cell_type": "code",
   "execution_count": 32,
   "metadata": {},
   "outputs": [],
   "source": [
    "ElevationFactor = 1.016 * Exp((-0.0001072) * DEM_1km_China)\n",
    "ElevationFactor.save(Step5_Path + r'\\ElevationFactor.tif')"
   ]
  },
  {
   "cell_type": "code",
   "execution_count": 33,
   "metadata": {},
   "outputs": [],
   "source": [
    "WalkingSpeed = 6 * Exp((-3.5) * Abs(Tan(0.01745 * Slope_1km_China) + 0.05))\n",
    "WalkingSpeed.save(Step5_Path + r'\\WalkingSpeed.tif')\n",
    "SlopeFactor = WalkingSpeed / 5.0\n",
    "SlopeFactor.save(Step5_Path + r'\\SlopeFactor.tif')"
   ]
  },
  {
   "cell_type": "code",
   "execution_count": 34,
   "metadata": {},
   "outputs": [],
   "source": [
    "# MODIS_LUCC Code\n",
    "'''\n",
    "1: 常绿针叶林 3.24\n",
    "2：常绿阔叶林 1.62\n",
    "3：落叶针叶林 3.24\n",
    "4：落叶阔叶林 4.00\n",
    "5：混交林 3.24\n",
    "6：郁闭灌木丛 3.00\n",
    "7：有林草地 4.20\n",
    "8：稀树草原 4.86\n",
    "10：草地 4.86\n",
    "11：永久湿地 2.00\n",
    "12：农田 2.50\n",
    "13：城镇与建成区 5.00\n",
    "14：农田与自然植被镶嵌体 3.24\n",
    "15：冰雪 1.62\n",
    "16：裸地 3.00\n",
    "17：水体 1.00\n",
    "'''\n",
    "LUCC_Volocity = Reclassify(Landuse_1km_China, \"Value\",\n",
    "                           RemapValue([[1, 324], [2, 162], [3, 324], [4, 400], [5, 324],\n",
    "                                       [6, 300], [7, 420], [8, 486], [9, 200], [10, 486],\n",
    "                                       [11, 200], [12, 250], [13, 500], [14, 324], [15, 162],\n",
    "                                       [16, 300], [17, 100]]))\n",
    "LUCC_Volocity.save(Step5_Path + r'\\LUCC_Velocity.tif')"
   ]
  },
  {
   "cell_type": "code",
   "execution_count": 35,
   "metadata": {},
   "outputs": [],
   "source": [
    "env.workspace = Step5_Path\n",
    "LUCC_Weight_Velocity = arcpy.ia.RasterCalculator([LUCC_Volocity,SlopeFactor,ElevationFactor],[\"x\", \"y\", \"z\"], \"x*y*z*0.01\", \"IntersectionOf\", \"FirstOf\")\n",
    "LUCC_Weight_Velocity.save(Step5_Path + r'\\LUCC_Weight_Velocity.tif')"
   ]
  },
  {
   "cell_type": "code",
   "execution_count": 36,
   "metadata": {
    "scrolled": true
   },
   "outputs": [
    {
     "data": {
      "text/html": [
       "<h2>Output</h2>E:\\_2023年\\[研究论文]\\[中国城乡流域]\\[data2]\\Step5_Cost\\Velocity.tif<h2>Messages</h2>Start Time: 2023年7月20日 15:11:45<br/>Building Pyramids...<br/>Succeeded at 2023年7月20日 15:11:49 (Elapsed Time: 4.23 seconds)<br/><style>.rendered_html td, .rendered_html th {text-align: left;}.rendered_html tbody {border: 1px solid black;}</style>"
      ],
      "text/plain": [
       "<Result 'E:\\\\_2023年\\\\[研究论文]\\\\[中国城乡流域]\\\\[data2]\\\\Step5_Cost\\\\Velocity.tif'>"
      ]
     },
     "execution_count": 36,
     "metadata": {},
     "output_type": "execute_result"
    }
   ],
   "source": [
    "# Friction(roads and land cover)\n",
    "# 第一步镶嵌： 道路+路面 MAXIMUM\n",
    "arcpy.MosaicToNewRaster_management(\"roads_primary_cost.tif; roads_secondary_cost.tif; roads_tertiary_cost.tif;\"\n",
    "                                   \"roads_motorway_cost.tif; roads_trunk_cost.tif; railways_rail_cost.tif;\"\n",
    "                                   \"LUCC_Weight_Velocity.tif; Ocean_cost.tif\",\n",
    "                                   Step5_Path, \"Mosaic1.tif\", sr,\n",
    "                                   \"32_BIT_FLOAT\", \"\", \"1\", \"MAXIMUM\",\n",
    "                                   \"FIRST\")\n",
    "# 第二步镶嵌： 叠加高铁缓冲区 MINIMUM\n",
    "arcpy.MosaicToNewRaster_management(\"Mosaic1.tif; hsr_bf_cost15.tif\",\n",
    "                                   Step5_Path, \"Mosaic2.tif\", sr,\n",
    "                                   \"32_BIT_FLOAT\", \"\", \"1\", \"MINIMUM\",\n",
    "                                   \"FIRST\")\n",
    "# 第三步镶嵌： 叠加高铁 MAXIMUM\n",
    "arcpy.MosaicToNewRaster_management(\"Mosaic2.tif; high_speed_rail_cost.tif\",\n",
    "                                   Step5_Path, \"Mosaic3.tif\", sr,\n",
    "                                   \"32_BIT_FLOAT\", \"\", \"1\", \"MAXIMUM\",\n",
    "                                   \"FIRST\")\n",
    "# 第四步镶嵌：叠加站点 MINIMUM\n",
    "# 最终获得 速度栅格 Velocity.tif\n",
    "arcpy.MosaicToNewRaster_management(\"Mosaic3.tif; hsr_p_bf_cost25.tif\",\n",
    "                                   Step5_Path, \"Velocity.tif\", sr,\n",
    "                                   \"32_BIT_FLOAT\", \"\", \"1\", \"MINIMUM\",\n",
    "                                   \"FIRST\")"
   ]
  },
  {
   "cell_type": "code",
   "execution_count": 37,
   "metadata": {},
   "outputs": [],
   "source": [
    "Velocity = Raster(Step5_Path + r'\\Velocity.tif')\n",
    "# Cost Raster\n",
    "Cost = 1 / Velocity\n",
    "Cost.save(Step5_Path + r\"\\Cost.tif\")"
   ]
  },
  {
   "cell_type": "code",
   "execution_count": 38,
   "metadata": {},
   "outputs": [],
   "source": [
    "# Step6: class_traveltime\n",
    "Step6_Path = root + r'\\Step6_class_traveltime'"
   ]
  },
  {
   "cell_type": "code",
   "execution_count": 39,
   "metadata": {
    "scrolled": true
   },
   "outputs": [],
   "source": [
    "if not os.path.exists(Step6_Path):\n",
    "    os.mkdir(Step6_Path)\n",
    "else:\n",
    "    shutil.rmtree(Step6_Path)\n",
    "    os.mkdir(Step6_Path)"
   ]
  },
  {
   "cell_type": "code",
   "execution_count": 40,
   "metadata": {},
   "outputs": [],
   "source": [
    "arcpy.env.parallelProcessingFactor = \"0\"\n",
    "arcpy.env.outputCoordinateSystem = 'PROJCS[\"Albers_Conic_Equal_Area\",\\\n",
    "GEOGCS[\"GCS_WGS_1984\",DATUM[\"D_WGS_1984\",SPHEROID[\"WGS_1984\",6378137.0,298.257223563]],\\\n",
    "PRIMEM[\"Greenwich\",0.0],UNIT[\"Degree\",0.0174532925199433]],PROJECTION[\"Albers\"],PARAMETER[\"false_easting\",0.0],\\\n",
    "PARAMETER[\"false_northing\",0.0],PARAMETER[\"central_meridian\",105.0],PARAMETER[\"standard_parallel_1\",25.0],\\\n",
    "PARAMETER[\"standard_parallel_2\",47.0],PARAMETER[\"latitude_of_origin\",0.0],UNIT[\"Meter\",1.0]]'\n",
    "\n",
    "outCostDist = CostDistance(os.path.join(Step3_Path, \"class1.tif\"), Cost)\n",
    "City1_Cost = outCostDist / 1000\n",
    "City1_Cost.save(Step6_Path + r\"\\travel_time_to_cities_1.tif\")\n",
    "\n",
    "outCostDist = CostDistance(os.path.join(Step3_Path, \"class2.tif\"), Cost)\n",
    "City2_Cost = outCostDist / 1000\n",
    "City2_Cost.save(Step6_Path + r\"\\travel_time_to_cities_2.tif\")\n",
    "\n",
    "outCostDist = CostDistance(os.path.join(Step3_Path, \"class3.tif\"), Cost)\n",
    "City3_Cost = outCostDist / 1000\n",
    "City3_Cost.save(Step6_Path + r\"\\travel_time_to_cities_3.tif\")\n",
    "\n",
    "outCostDist = CostDistance(os.path.join(Step3_Path, \"class4.tif\"), Cost)\n",
    "City4_Cost = outCostDist / 1000\n",
    "City4_Cost.save(Step6_Path + r\"\\travel_time_to_cities_4.tif\")\n",
    "\n",
    "outCostDist =CostDistance(os.path.join(Step3_Path, \"class5.tif\"), Cost)\n",
    "City5_Cost = outCostDist / 1000\n",
    "City5_Cost.save(Step6_Path + r\"\\travel_time_to_cities_5.tif\")\n",
    "\n",
    "outCostDist = CostDistance(os.path.join(Step3_Path, \"class6.tif\"), Cost)\n",
    "City6_Cost = outCostDist / 1000\n",
    "City6_Cost.save(Step6_Path + r\"\\travel_time_to_cities_6.tif\")"
   ]
  },
  {
   "cell_type": "code",
   "execution_count": 42,
   "metadata": {},
   "outputs": [
    {
     "ename": "NameError",
     "evalue": "name 'City1_Cost' is not defined",
     "output_type": "error",
     "traceback": [
      "\u001b[0;31m---------------------------------------------------------------------------\u001b[0m\n\u001b[0;31mNameError\u001b[0m                                 Traceback (most recent call last)",
      "In  \u001b[0;34m[42]\u001b[0m:\nLine \u001b[0;34m1\u001b[0m:     \u001b[34mdel\u001b[39;49;00m City1_Cost, City2_Cost, City3_Cost, City4_Cost, City5_Cost, City6_Cost\u001b[37m\u001b[39;49;00m\n",
      "\u001b[0;31mNameError\u001b[0m: name 'City1_Cost' is not defined\n\u001b[0;31m---------------------------------------------------------------------------\u001b[0m"
     ]
    }
   ],
   "source": [
    "del City1_Cost, City2_Cost, City3_Cost, City4_Cost, City5_Cost, City6_Cost"
   ]
  },
  {
   "cell_type": "code",
   "execution_count": 43,
   "metadata": {},
   "outputs": [],
   "source": [
    "arcpy.env.outputCoordinateSystem = \"GEOGCS['GCS_WGS_1984',DATUM['D_WGS_1984',SPHEROID['WGS_1984',6378137.0,298.257223563]],PRIMEM['Greenwich',0.0],UNIT['Degree',0.0174532925199433]]\"\n",
    "arcpy.env.parallelProcessingFactor = \"\""
   ]
  },
  {
   "cell_type": "code",
   "execution_count": 46,
   "metadata": {},
   "outputs": [],
   "source": [
    "# Step6_proj: class_traveltime project\n",
    "Step6_proj_Path = root + r'\\Step6_class_traveltime\\traveltime_project'"
   ]
  },
  {
   "cell_type": "code",
   "execution_count": 47,
   "metadata": {},
   "outputs": [],
   "source": [
    "if not os.path.exists(Step6_proj_Path):\n",
    "    os.mkdir(Step6_proj_Path)\n",
    "else:\n",
    "    shutil.rmtree(Step6_proj_Path)\n",
    "    os.mkdir(Step6_proj_Path)"
   ]
  },
  {
   "cell_type": "code",
   "execution_count": 48,
   "metadata": {},
   "outputs": [],
   "source": [
    "for i in range(1,7):\n",
    "    filename = \"travel_time_to_cities_\"+ str(i) +\".tif\"\n",
    "    arcpy.ProjectRaster_management(in_raster=os.path.join(Step6_Path, filename), \n",
    "                                   out_raster=os.path.join(Step6_proj_Path, filename), \n",
    "                                   out_coor_system=\"GEOGCS['GCS_WGS_1984',DATUM['D_WGS_1984',SPHEROID['WGS_1984',6378137.0,298.257223563]],PRIMEM['Greenwich',0.0],UNIT['Degree',0.0174532925199433]]\", \n",
    "                                   resampling_type=\"BILINEAR\", cell_size=\"0.008333333333 0.008333333333\", \n",
    "                                   geographic_transform=\"\", Registration_Point=\"\", \n",
    "                                   in_coor_system=\"PROJCS['Albers_Conic_Equal_Area',GEOGCS['GCS_WGS_1984',DATUM['D_WGS_1984',SPHEROID['WGS_1984',6378137.0,298.257223563]],\\\n",
    "                                   PRIMEM['Greenwich',0.0],UNIT['Degree',0.0174532925199433]],PROJECTION['Albers'],PARAMETER['false_easting',0.0],PARAMETER['false_northing',0.0],\\\n",
    "                                   PARAMETER['central_meridian',105.0],PARAMETER['standard_parallel_1',25.0],PARAMETER['standard_parallel_2',47.0],PARAMETER['latitude_of_origin',0.0],UNIT['Meter',1.0]]\", \n",
    "                                   vertical=\"NO_VERTICAL\")"
   ]
  },
  {
   "cell_type": "code",
   "execution_count": 49,
   "metadata": {},
   "outputs": [],
   "source": [
    "# Step7: class_traveltime_code\n",
    "Step7_Path = root + r'\\Step7_class_traveltime_reclass'"
   ]
  },
  {
   "cell_type": "code",
   "execution_count": 50,
   "metadata": {},
   "outputs": [],
   "source": [
    "if not os.path.exists(Step7_Path):\n",
    "    os.mkdir(Step7_Path)\n",
    "else:\n",
    "    shutil.rmtree(Step7_Path)\n",
    "    os.mkdir(Step7_Path)"
   ]
  },
  {
   "cell_type": "code",
   "execution_count": 51,
   "metadata": {},
   "outputs": [],
   "source": [
    "rasterstype30 = ['travel_time_to_cities_1', 'travel_time_to_cities_2', 'travel_time_to_cities_3',\n",
    "                 'travel_time_to_cities_4', 'travel_time_to_cities_5', 'travel_time_to_cities_6']"
   ]
  },
  {
   "cell_type": "code",
   "execution_count": 52,
   "metadata": {},
   "outputs": [
    {
     "name": "stdout",
     "output_type": "stream",
     "text": [
      "travel_time_to_cities_1\n",
      "7\n",
      "travel_time_to_cities_2\n",
      "8\n",
      "travel_time_to_cities_3\n",
      "9\n",
      "travel_time_to_cities_4\n",
      "10\n",
      "travel_time_to_cities_5\n",
      "11\n",
      "travel_time_to_cities_6\n",
      "22\n"
     ]
    }
   ],
   "source": [
    "# Set up for travel masks for distances 0 to 30 minutes from cities - peri-urban\n",
    "outfolder = Step7_Path + r'\\tt_0to30min'\n",
    "if not os.path.exists(outfolder):\n",
    "    os.mkdir(outfolder)\n",
    "inFalseRaster = [7, 8, 9, 10, 11, 22]\n",
    "# Loop through rasterstype30 for peri-urban travel masks\n",
    "for i, raster in enumerate(rasterstype30):\n",
    "    print(raster)\n",
    "    outSetNull = SetNull(os.path.join(Step6_proj_Path, raster + '.tif'), inFalseRaster[i], \"value > 0.5\")\n",
    "    print(inFalseRaster[i])\n",
    "    outras = os.path.join(outfolder, raster + \"_tt1.tif\")\n",
    "    outSetNull.save(outras)"
   ]
  },
  {
   "cell_type": "code",
   "execution_count": 53,
   "metadata": {},
   "outputs": [
    {
     "name": "stdout",
     "output_type": "stream",
     "text": [
      "travel_time_to_cities_1\n",
      "12\n",
      "travel_time_to_cities_2\n",
      "13\n",
      "travel_time_to_cities_3\n",
      "14\n",
      "travel_time_to_cities_4\n",
      "15\n",
      "travel_time_to_cities_5\n",
      "16\n",
      "travel_time_to_cities_6\n",
      "23\n"
     ]
    }
   ],
   "source": [
    "inFalseRaster = [12, 13, 14, 15, 16, 23]\n",
    "\n",
    "# Set up for travel masks for distances 30 to 60 minutes from cities - peri-urban\n",
    "outfolder = Step7_Path + r'\\tt_30to60min'\n",
    "if not os.path.exists(outfolder):\n",
    "    os.mkdir(outfolder)\n",
    "# Loop through rasterstype30 for peri-urban travel masks\n",
    "for i, raster in enumerate(rasterstype30):\n",
    "    print(raster)\n",
    "    outSetNull = SetNull(os.path.join(Step6_proj_Path, raster + '.tif'), inFalseRaster[i], \"value <= 0.5 or value >1\")\n",
    "    print(inFalseRaster[i])\n",
    "    outras = os.path.join(outfolder, raster + \"_tt2.tif\")\n",
    "    outSetNull.save(outras)"
   ]
  },
  {
   "cell_type": "code",
   "execution_count": 54,
   "metadata": {},
   "outputs": [
    {
     "name": "stdout",
     "output_type": "stream",
     "text": [
      "travel_time_to_cities_1\n",
      "17\n",
      "travel_time_to_cities_2\n",
      "18\n",
      "travel_time_to_cities_3\n",
      "19\n",
      "travel_time_to_cities_4\n",
      "20\n",
      "travel_time_to_cities_5\n",
      "21\n",
      "travel_time_to_cities_6\n",
      "24\n"
     ]
    }
   ],
   "source": [
    "inFalseRaster = [17, 18, 19, 20, 21, 24]\n",
    "\n",
    "# Set up for travel masks for distances 60 to 120 minutes from cities - peri-urban\n",
    "outfolder = Step7_Path + r'\\tt_60to120min'\n",
    "if not os.path.exists(outfolder):\n",
    "    os.mkdir(outfolder)\n",
    "\n",
    "# Loop through rasterstype30 for peri-urban travel masks\n",
    "for i, raster in enumerate(rasterstype30):\n",
    "    print(raster)\n",
    "    outSetNull = SetNull(os.path.join(Step6_proj_Path, raster + '.tif'), inFalseRaster[i], \"value <= 1 or value > 2\")\n",
    "    print(inFalseRaster[i])\n",
    "    outras = os.path.join(outfolder, raster + \"_tt3.tif\")\n",
    "    outSetNull.save(outras)"
   ]
  },
  {
   "cell_type": "code",
   "execution_count": 55,
   "metadata": {},
   "outputs": [
    {
     "name": "stdout",
     "output_type": "stream",
     "text": [
      "travel_time_to_cities_1\n",
      "25\n",
      "travel_time_to_cities_2\n",
      "26\n",
      "travel_time_to_cities_3\n",
      "27\n",
      "travel_time_to_cities_4\n",
      "28\n",
      "travel_time_to_cities_5\n",
      "29\n",
      "travel_time_to_cities_6\n",
      "30\n"
     ]
    }
   ],
   "source": [
    "inFalseRaster = [25, 26, 27, 28, 29, 30]\n",
    "# Set up for travel masks for distances 120 to 180 minutes from cities - peri-urban\n",
    "outfolder = Step7_Path + r'\\tt_120to180min'\n",
    "if not os.path.exists(outfolder):\n",
    "    os.mkdir(outfolder)\n",
    "\n",
    "# Loop through rasterstype30 for peri-urban travel masks\n",
    "for i, raster in enumerate(rasterstype30):\n",
    "    print(raster)\n",
    "    outSetNull = SetNull(os.path.join(Step6_proj_Path, raster + '.tif'), inFalseRaster[i], \"value <= 2 or value >3\")\n",
    "    print(inFalseRaster[i])\n",
    "    outras = os.path.join(outfolder, raster + \"_tt4.tif\")\n",
    "    outSetNull.save(outras)"
   ]
  },
  {
   "cell_type": "code",
   "execution_count": 56,
   "metadata": {},
   "outputs": [],
   "source": [
    "outfolder = Step7_Path + r'\\Hinterland'\n",
    "if not os.path.exists(outfolder):\n",
    "    os.mkdir(outfolder)\n",
    "outSetNull = SetNull(os.path.join(Step6_proj_Path, raster + '.tif'), 31, \"value < 0\")\n",
    "outras = os.path.join(outfolder, \"Hinterland.tif\")\n",
    "outSetNull.save(outras)"
   ]
  },
  {
   "cell_type": "code",
   "execution_count": 57,
   "metadata": {},
   "outputs": [],
   "source": [
    "del outSetNull"
   ]
  },
  {
   "cell_type": "code",
   "execution_count": 58,
   "metadata": {},
   "outputs": [],
   "source": [
    "# Step8: final output\n",
    "Step8_Path = root + r'\\Step8_final_output'"
   ]
  },
  {
   "cell_type": "code",
   "execution_count": 59,
   "metadata": {},
   "outputs": [],
   "source": [
    "if not os.path.exists(Step8_Path):\n",
    "    os.mkdir(Step8_Path)\n",
    "else:\n",
    "    shutil.rmtree(Step8_Path)\n",
    "    os.mkdir(Step8_Path)"
   ]
  },
  {
   "cell_type": "code",
   "execution_count": 60,
   "metadata": {},
   "outputs": [],
   "source": [
    "import glob\n",
    "os.chdir(Step7_Path)\n",
    "file_list = []\n",
    "for file in glob.glob(r'.\\**\\*.tif'):\n",
    "    file_list.append(Step7_Path + file.split('.')[1]+'.tif')"
   ]
  },
  {
   "cell_type": "code",
   "execution_count": 61,
   "metadata": {},
   "outputs": [],
   "source": [
    "os.chdir(Step3_Path)\n",
    "for file in glob.glob(r'.\\*.tif'):\n",
    "    file_list.append(Step3_Path +file.split('.')[1]+'.tif')"
   ]
  },
  {
   "cell_type": "code",
   "execution_count": 62,
   "metadata": {},
   "outputs": [
    {
     "data": {
      "text/html": [
       "<h2>Output</h2>E:\\_2023年\\[研究论文]\\[中国城乡流域]\\[data2]\\Step8_final_output\\URCA2018_China.tif<h2>Messages</h2>Start Time: 2023年7月20日 15:19:31<br/>Building Pyramids...<br/>Succeeded at 2023年7月20日 15:19:40 (Elapsed Time: 9.12 seconds)<br/><style>.rendered_html td, .rendered_html th {text-align: left;}.rendered_html tbody {border: 1px solid black;}</style>"
      ],
      "text/plain": [
       "<Result 'E:\\\\_2023年\\\\[研究论文]\\\\[中国城乡流域]\\\\[data2]\\\\Step8_final_output\\\\URCA2018_China.tif'>"
      ]
     },
     "execution_count": 62,
     "metadata": {},
     "output_type": "execute_result"
    }
   ],
   "source": [
    "arcpy.MosaicToNewRaster_management('; '.join(file_list),\n",
    "                                   Step8_Path, \"URCA2018_China.tif\", None,\n",
    "                                   \"8_BIT_UNSIGNED\", None, \"1\", \"MINIMUM\",\n",
    "                                   \"FIRST\")"
   ]
  }
 ],
 "metadata": {
  "kernelspec": {
   "display_name": "ArcGISPro",
   "language": "Python",
   "name": "python3"
  },
  "language_info": {
   "file_extension": ".py",
   "name": "python",
   "version": "3"
  }
 },
 "nbformat": 4,
 "nbformat_minor": 2
}
